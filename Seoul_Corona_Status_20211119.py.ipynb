{
 "cells": [
  {
   "cell_type": "markdown",
   "id": "8611d3ca",
   "metadata": {},
   "source": [
    "# 서울시에서 공개한 코로나19 발생동향 분석\n",
    "\n",
    "* https://www.seoul.go.kr/coronaV/coronaStatus.do"
   ]
  },
  {
   "cell_type": "code",
   "execution_count": 49,
   "id": "6a78de55",
   "metadata": {},
   "outputs": [],
   "source": [
    "# 필요한 라이브러리를 불러옵니다\n",
    "\n",
    "import pandas as pd"
   ]
  },
  {
   "cell_type": "code",
   "execution_count": 50,
   "id": "b2711486",
   "metadata": {},
   "outputs": [
    {
     "data": {
      "text/plain": [
       "'https://www.seoul.go.kr/coronaV/coronaStatus.do'"
      ]
     },
     "execution_count": 50,
     "metadata": {},
     "output_type": "execute_result"
    }
   ],
   "source": [
    "#크롤링으로 가져올 url 주소를 입력합니다\n",
    "\n",
    "url = 'https://www.seoul.go.kr/coronaV/coronaStatus.do'\n",
    "url"
   ]
  },
  {
   "cell_type": "code",
   "execution_count": 51,
   "id": "8ed97f7c",
   "metadata": {},
   "outputs": [
    {
     "data": {
      "text/plain": [
       "[    강남구   강동구   강북구   강서구   관악구   광진구   구로구   금천구   노원구   도봉구  동대문구   동작구  \\\n",
       " 0  8589  5669  3830  6091  7263  4483  6885  3371  5619  3791  5435  5361   \n",
       " 1   +61   +51   +42   +80   +59   +41   +66   +55   +51   +60   +74   +47   \n",
       " 2  서대문구   서초구   성동구   성북구   송파구   양천구  영등포구   용산구   은평구   종로구    중구   중랑구   \n",
       " 3  3598  5345  3749  5628  8508  4482  6616  3452  5822  2449  2402  4977   \n",
       " 4   +32   +31   +28   +90   +78   +42   +97   +21   +61   +25   +34   +42   \n",
       " \n",
       "     마포구  \n",
       " 0  4809  \n",
       " 1   +43  \n",
       " 2    기타  \n",
       " 3  9553  \n",
       " 4   +90  ,\n",
       "      강남구   강동구   강북구   강서구   관악구   광진구\n",
       " 0   8589  5669  3830  6091  7263  4483\n",
       " 1    +61   +51   +42   +80   +59   +41\n",
       " 2    구로구   금천구   노원구   도봉구  동대문구   동작구\n",
       " 3   6885  3371  5619  3791  5435  5361\n",
       " 4    +66   +55   +51   +60   +74   +47\n",
       " 5    마포구  서대문구   서초구   성동구   성북구   송파구\n",
       " 6   4809  3598  5345  3749  5628  8508\n",
       " 7    +43   +32   +31   +28   +90   +78\n",
       " 8    양천구  영등포구   용산구   은평구   종로구    중구\n",
       " 9   4482  6616  3452  5822  2449  2402\n",
       " 10   +42   +97   +21   +61   +25   +34\n",
       " 11   중랑구    기타   NaN   NaN   NaN   NaN\n",
       " 12  4977  9553   NaN   NaN   NaN   NaN\n",
       " 13   +42   +90   NaN   NaN   NaN   NaN,\n",
       "       구 분   합 계  9세 이하  10세~19세  20세~29세  30세~39세  40세~49세  50세~59세  60세~69세  \\\n",
       " 0  확진자(명)  1401   67.0    139.0    130.0    155.0    158.0    203.0    312.0   \n",
       " 1   비율(%)   100    4.8      9.9      9.3     11.0     11.3     14.5     22.3   \n",
       " \n",
       "    70세 이상  \n",
       " 0   237.0  \n",
       " 1    16.9  ,\n",
       "        일자   11.18.   11.17.   11.16.   11.15.   11.14.   11.13.   11.12.\n",
       " 0  검사자(명)  87961.0  88342.0  87714.0  93363.0  46514.0  61429.0  81817.0\n",
       " 1  확진자(명)   1401.0   1429.0   1436.0    846.0    858.0    978.0   1005.0\n",
       " 2  확진율(%)      1.6      1.6      1.5      1.8      1.4      1.2      1.4,\n",
       "        소계  해외 유입  강동구 소재 병원 관련('21.11.)  송파구 소재 시장 관련('21.11.)  \\\n",
       " 0  137777   1948                    163                     75   \n",
       " \n",
       "    송파구 소재 실내 체육 시설 관련('21.11.)  성북구 소재 실내 체육 시설 관련('21.11.)  기타 집단 감염  \\\n",
       " 0                           68                           34     28654   \n",
       " \n",
       "    기타 확진자 접촉  타시도 확진자 접촉  감염 경로 조사중  \n",
       " 0      54715        4539      47581  ,\n",
       " Empty DataFrame\n",
       " Columns: [연번, 환자, 확진일, 거주지, 여행력, 접촉력, 퇴원현황]\n",
       " Index: [],\n",
       " Empty DataFrame\n",
       " Columns: [연번, 환자, 확진일, 거주지, 여행력, 접촉력, 퇴원현황]\n",
       " Index: [],\n",
       "                      일                    월                    화  \\\n",
       " 0                  NaN   1  120,239  (+646)   2  120,839  (+600)   \n",
       " 1   7  125,531  (+848)   8  126,238  (+707)   9  126,900  (+662)   \n",
       " 2  14  131,807  (+978)  15  132,665  (+858)  16  133,511  (+846)   \n",
       " 3                   21                   22                   23   \n",
       " 4                   28                   29                   30   \n",
       " \n",
       "                        수                      목                      금  \\\n",
       " 0   3  121,843  (+1,004)     4  122,789  (+946)     5  123,768  (+979)   \n",
       " 1    10  127,873  (+973)  11  128,876  (+1,003)    12  129,824  (+948)   \n",
       " 2  17  134,947  (+1,436)  18  136,376  (+1,429)  19  137,777  (+1,401)   \n",
       " 3                     24                     25                     26   \n",
       " 4                    NaN                    NaN                    NaN   \n",
       " \n",
       "                        토  \n",
       " 0     6  124,683  (+915)  \n",
       " 1  13  130,829  (+1,005)  \n",
       " 2                     20  \n",
       " 3                     27  \n",
       " 4                    NaN  ]"
      ]
     },
     "execution_count": 51,
     "metadata": {},
     "output_type": "execute_result"
    }
   ],
   "source": [
    "# 판다스의 read_html을 통해 위 url에 있는 불러옵니다\n",
    "\n",
    "\n",
    "table = pd.read_html(url)\n",
    "table\n"
   ]
  },
  {
   "cell_type": "code",
   "execution_count": 35,
   "id": "d6350254",
   "metadata": {},
   "outputs": [
    {
     "data": {
      "text/plain": [
       "8"
      ]
     },
     "execution_count": 35,
     "metadata": {},
     "output_type": "execute_result"
    }
   ],
   "source": [
    "len(table)"
   ]
  },
  {
   "cell_type": "code",
   "execution_count": 44,
   "id": "e92b6745",
   "metadata": {},
   "outputs": [
    {
     "data": {
      "text/html": [
       "<div>\n",
       "<style scoped>\n",
       "    .dataframe tbody tr th:only-of-type {\n",
       "        vertical-align: middle;\n",
       "    }\n",
       "\n",
       "    .dataframe tbody tr th {\n",
       "        vertical-align: top;\n",
       "    }\n",
       "\n",
       "    .dataframe thead th {\n",
       "        text-align: right;\n",
       "    }\n",
       "</style>\n",
       "<table border=\"1\" class=\"dataframe\">\n",
       "  <thead>\n",
       "    <tr style=\"text-align: right;\">\n",
       "      <th></th>\n",
       "      <th>0</th>\n",
       "    </tr>\n",
       "  </thead>\n",
       "  <tbody>\n",
       "    <tr>\n",
       "      <th>소계</th>\n",
       "      <td>137777</td>\n",
       "    </tr>\n",
       "    <tr>\n",
       "      <th>해외 유입</th>\n",
       "      <td>1948</td>\n",
       "    </tr>\n",
       "    <tr>\n",
       "      <th>강동구 소재 병원 관련('21.11.)</th>\n",
       "      <td>163</td>\n",
       "    </tr>\n",
       "    <tr>\n",
       "      <th>송파구 소재 시장 관련('21.11.)</th>\n",
       "      <td>75</td>\n",
       "    </tr>\n",
       "    <tr>\n",
       "      <th>송파구 소재 실내 체육 시설 관련('21.11.)</th>\n",
       "      <td>68</td>\n",
       "    </tr>\n",
       "    <tr>\n",
       "      <th>성북구 소재 실내 체육 시설 관련('21.11.)</th>\n",
       "      <td>34</td>\n",
       "    </tr>\n",
       "    <tr>\n",
       "      <th>기타 집단 감염</th>\n",
       "      <td>28654</td>\n",
       "    </tr>\n",
       "    <tr>\n",
       "      <th>기타 확진자 접촉</th>\n",
       "      <td>54715</td>\n",
       "    </tr>\n",
       "    <tr>\n",
       "      <th>타시도 확진자 접촉</th>\n",
       "      <td>4539</td>\n",
       "    </tr>\n",
       "    <tr>\n",
       "      <th>감염 경로 조사중</th>\n",
       "      <td>47581</td>\n",
       "    </tr>\n",
       "  </tbody>\n",
       "</table>\n",
       "</div>"
      ],
      "text/plain": [
       "                                  0\n",
       "소계                           137777\n",
       "해외 유입                          1948\n",
       "강동구 소재 병원 관련('21.11.)           163\n",
       "송파구 소재 시장 관련('21.11.)            75\n",
       "송파구 소재 실내 체육 시설 관련('21.11.)      68\n",
       "성북구 소재 실내 체육 시설 관련('21.11.)      34\n",
       "기타 집단 감염                      28654\n",
       "기타 확진자 접촉                     54715\n",
       "타시도 확진자 접촉                     4539\n",
       "감염 경로 조사중                     47581"
      ]
     },
     "execution_count": 44,
     "metadata": {},
     "output_type": "execute_result"
    }
   ],
   "source": [
    "# read_html은 사이트 내의 html 태그를 불러옵니다\n",
    "\n",
    "table[4].T"
   ]
  },
  {
   "cell_type": "code",
   "execution_count": 48,
   "id": "2451e5d9",
   "metadata": {},
   "outputs": [
    {
     "data": {
      "text/html": [
       "<div>\n",
       "<style scoped>\n",
       "    .dataframe tbody tr th:only-of-type {\n",
       "        vertical-align: middle;\n",
       "    }\n",
       "\n",
       "    .dataframe tbody tr th {\n",
       "        vertical-align: top;\n",
       "    }\n",
       "\n",
       "    .dataframe thead th {\n",
       "        text-align: right;\n",
       "    }\n",
       "</style>\n",
       "<table border=\"1\" class=\"dataframe\">\n",
       "  <thead>\n",
       "    <tr style=\"text-align: right;\">\n",
       "      <th></th>\n",
       "      <th>연번</th>\n",
       "      <th>환자</th>\n",
       "      <th>확진일</th>\n",
       "      <th>거주지</th>\n",
       "      <th>여행력</th>\n",
       "      <th>접촉력</th>\n",
       "      <th>퇴원현황</th>\n",
       "    </tr>\n",
       "  </thead>\n",
       "  <tbody>\n",
       "  </tbody>\n",
       "</table>\n",
       "</div>"
      ],
      "text/plain": [
       "Empty DataFrame\n",
       "Columns: [연번, 환자, 확진일, 거주지, 여행력, 접촉력, 퇴원현황]\n",
       "Index: []"
      ]
     },
     "execution_count": 48,
     "metadata": {},
     "output_type": "execute_result"
    }
   ],
   "source": [
    "# table  변수 안에 있는 table 태그으 ㅣ값을 하나씩 읽어보며 확진자 목록이 있는 테이블을 가져옵니다\n",
    "\n",
    "df = tabel[5]\n",
    "df"
   ]
  },
  {
   "cell_type": "code",
   "execution_count": 45,
   "id": "4cd54909",
   "metadata": {},
   "outputs": [
    {
     "data": {
      "text/html": [
       "<div>\n",
       "<style scoped>\n",
       "    .dataframe tbody tr th:only-of-type {\n",
       "        vertical-align: middle;\n",
       "    }\n",
       "\n",
       "    .dataframe tbody tr th {\n",
       "        vertical-align: top;\n",
       "    }\n",
       "\n",
       "    .dataframe thead th {\n",
       "        text-align: right;\n",
       "    }\n",
       "</style>\n",
       "<table border=\"1\" class=\"dataframe\">\n",
       "  <thead>\n",
       "    <tr style=\"text-align: right;\">\n",
       "      <th></th>\n",
       "      <th>연번</th>\n",
       "      <th>환자</th>\n",
       "      <th>확진일</th>\n",
       "      <th>거주지</th>\n",
       "      <th>여행력</th>\n",
       "      <th>접촉력</th>\n",
       "      <th>퇴원현황</th>\n",
       "    </tr>\n",
       "  </thead>\n",
       "  <tbody>\n",
       "  </tbody>\n",
       "</table>\n",
       "</div>"
      ],
      "text/plain": [
       "Empty DataFrame\n",
       "Columns: [연번, 환자, 확진일, 거주지, 여행력, 접촉력, 퇴원현황]\n",
       "Index: []"
      ]
     },
     "execution_count": 45,
     "metadata": {},
     "output_type": "execute_result"
    }
   ],
   "source": [
    "df.head()"
   ]
  },
  {
   "cell_type": "code",
   "execution_count": 55,
   "id": "368868d3",
   "metadata": {},
   "outputs": [
    {
     "data": {
      "text/plain": [
       "'seoul-covid19_1_1_2020.csv'"
      ]
     },
     "execution_count": 55,
     "metadata": {},
     "output_type": "execute_result"
    }
   ],
   "source": [
    "file_name = f'seoul-covid19_{\"1_1_2020\"}.csv'\n",
    "file_name"
   ]
  },
  {
   "cell_type": "code",
   "execution_count": 64,
   "id": "10d7a46d",
   "metadata": {},
   "outputs": [],
   "source": [
    "# csv로 열때 \n",
    "\n",
    "df.to_csv(file_name, index = False)"
   ]
  },
  {
   "cell_type": "code",
   "execution_count": 65,
   "id": "f0cb55de",
   "metadata": {},
   "outputs": [
    {
     "data": {
      "text/html": [
       "<div>\n",
       "<style scoped>\n",
       "    .dataframe tbody tr th:only-of-type {\n",
       "        vertical-align: middle;\n",
       "    }\n",
       "\n",
       "    .dataframe tbody tr th {\n",
       "        vertical-align: top;\n",
       "    }\n",
       "\n",
       "    .dataframe thead th {\n",
       "        text-align: right;\n",
       "    }\n",
       "</style>\n",
       "<table border=\"1\" class=\"dataframe\">\n",
       "  <thead>\n",
       "    <tr style=\"text-align: right;\">\n",
       "      <th></th>\n",
       "      <th>연번</th>\n",
       "      <th>환자</th>\n",
       "      <th>확진일</th>\n",
       "      <th>거주지</th>\n",
       "      <th>여행력</th>\n",
       "      <th>접촉력</th>\n",
       "      <th>퇴원현황</th>\n",
       "    </tr>\n",
       "  </thead>\n",
       "  <tbody>\n",
       "  </tbody>\n",
       "</table>\n",
       "</div>"
      ],
      "text/plain": [
       "Empty DataFrame\n",
       "Columns: [연번, 환자, 확진일, 거주지, 여행력, 접촉력, 퇴원현황]\n",
       "Index: []"
      ]
     },
     "execution_count": 65,
     "metadata": {},
     "output_type": "execute_result"
    }
   ],
   "source": [
    "pd.read_csv(file_name)"
   ]
  },
  {
   "cell_type": "code",
   "execution_count": 66,
   "id": "491b5ea1",
   "metadata": {},
   "outputs": [],
   "source": [
    "# 엑셀에서 열어볼때\n",
    "\n",
    "df.to_csv(file_name, index = False, encoding = 'cp949') "
   ]
  },
  {
   "cell_type": "code",
   "execution_count": 67,
   "id": "80392e70",
   "metadata": {},
   "outputs": [
    {
     "data": {
      "text/html": [
       "<div>\n",
       "<style scoped>\n",
       "    .dataframe tbody tr th:only-of-type {\n",
       "        vertical-align: middle;\n",
       "    }\n",
       "\n",
       "    .dataframe tbody tr th {\n",
       "        vertical-align: top;\n",
       "    }\n",
       "\n",
       "    .dataframe thead th {\n",
       "        text-align: right;\n",
       "    }\n",
       "</style>\n",
       "<table border=\"1\" class=\"dataframe\">\n",
       "  <thead>\n",
       "    <tr style=\"text-align: right;\">\n",
       "      <th></th>\n",
       "      <th>연번</th>\n",
       "      <th>환자</th>\n",
       "      <th>확진일</th>\n",
       "      <th>거주지</th>\n",
       "      <th>여행력</th>\n",
       "      <th>접촉력</th>\n",
       "      <th>퇴원현황</th>\n",
       "    </tr>\n",
       "  </thead>\n",
       "  <tbody>\n",
       "  </tbody>\n",
       "</table>\n",
       "</div>"
      ],
      "text/plain": [
       "Empty DataFrame\n",
       "Columns: [연번, 환자, 확진일, 거주지, 여행력, 접촉력, 퇴원현황]\n",
       "Index: []"
      ]
     },
     "execution_count": 67,
     "metadata": {},
     "output_type": "execute_result"
    }
   ],
   "source": [
    "pd.read_csv(file_name, encoding = 'cp949')"
   ]
  },
  {
   "cell_type": "code",
   "execution_count": null,
   "id": "b3951919",
   "metadata": {},
   "outputs": [],
   "source": []
  }
 ],
 "metadata": {
  "kernelspec": {
   "display_name": "Python 3",
   "language": "python",
   "name": "python3"
  },
  "language_info": {
   "codemirror_mode": {
    "name": "ipython",
    "version": 3
   },
   "file_extension": ".py",
   "mimetype": "text/x-python",
   "name": "python",
   "nbconvert_exporter": "python",
   "pygments_lexer": "ipython3",
   "version": "3.8.8"
  }
 },
 "nbformat": 4,
 "nbformat_minor": 5
}
